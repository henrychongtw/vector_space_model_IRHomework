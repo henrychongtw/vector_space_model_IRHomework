{
 "cells": [
  {
   "cell_type": "code",
   "execution_count": null,
   "metadata": {},
   "outputs": [],
   "source": [
    "#Accessing a text file - www.101computing.net/mp3-playlist/\n",
    "\n",
    "file = open(\"doc_list.txt\",\"r\")\n",
    "\n",
    "#Repeat for each song in the text file\n",
    "for line in file:\n",
    "  \n",
    "  #Let's split the line into an array called \"fields\" using the \";\" as a separator:\n",
    "  fields = line.split(\"\\t\")\n",
    "  \n",
    "  #and let's extract the data:\n",
    "\n",
    "  \n",
    "  #Print the song\n",
    "  print(fields)\n",
    "\n",
    "#It is good practice to close the file at the end to free up resources   \n",
    "file.close()"
   ]
  }
 ],
 "metadata": {
  "kernelspec": {
   "display_name": "Python 3",
   "language": "python",
   "name": "python3"
  },
  "language_info": {
   "codemirror_mode": {
    "name": "ipython",
    "version": 3
   },
   "file_extension": ".py",
   "mimetype": "text/x-python",
   "name": "python",
   "nbconvert_exporter": "python",
   "pygments_lexer": "ipython3",
   "version": "3.6.2"
  }
 },
 "nbformat": 4,
 "nbformat_minor": 2
}
